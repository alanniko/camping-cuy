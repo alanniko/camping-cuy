{
  "nbformat": 4,
  "nbformat_minor": 0,
  "metadata": {
    "colab": {
      "provenance": []
    },
    "kernelspec": {
      "name": "python3",
      "display_name": "Python 3"
    },
    "language_info": {
      "name": "python"
    }
  },
  "cells": [
    {
      "cell_type": "markdown",
      "source": [
        "## Scraping Dataset From Website"
      ],
      "metadata": {
        "id": "JOJ8O5A27y9L"
      }
    },
    {
      "cell_type": "code",
      "execution_count": 1,
      "metadata": {
        "id": "Oq2xs7QCprxj"
      },
      "outputs": [],
      "source": [
        "import requests\n",
        "from bs4 import BeautifulSoup\n",
        "import pandas as pd"
      ]
    },
    {
      "cell_type": "code",
      "source": [
        "url = 'https://napaktilas.net/tempat-camping/jawa-barat/bandung/ciwidey/'\n",
        "response = requests.get(url)\n",
        "soup = BeautifulSoup(response.text, 'html.parser')"
      ],
      "metadata": {
        "id": "K0Ad0uPVpz_V"
      },
      "execution_count": 2,
      "outputs": []
    },
    {
      "cell_type": "code",
      "source": [
        "tempat_list = []\n",
        "tempat = soup.find_all('div', 'site grid-container container hfeed')\n",
        "for t in tempat:\n",
        "  headings = t.find_all('h2', 'wp-block-heading')\n",
        "  for heading in headings:\n",
        "    tempat_list.append(heading.get_text())\n",
        "    print(heading.get_text())\n",
        "\n",
        "print(tempat_list)"
      ],
      "metadata": {
        "colab": {
          "base_uri": "https://localhost:8080/"
        },
        "id": "UvzrQXy5p2Yi",
        "outputId": "cb202141-b7ee-4cce-f5d5-66c7163dda63"
      },
      "execution_count": 3,
      "outputs": [
        {
          "output_type": "stream",
          "name": "stdout",
          "text": [
            "1. Glamping Lakeside Rancabali\n",
            "2. Ranca Upas\n",
            "3. Ciwidey Valley Resort\n",
            "4. Glamping Legok Kondang Lodge\n",
            "5. Bumi Perkemahan Ranca Cangkuang PPTK Gambung\n",
            "6. Punceling Pas Camping Ground & Hot Spring\n",
            "7. Green Hill Ciwidey\n",
            "8. Bale Bambu Adventure Resort\n",
            "9. Hejo Forest\n",
            "10. Koboy Tjipelah Coffee & Camping Ground\n",
            "['1. Glamping Lakeside Rancabali', '2. Ranca Upas', '3. Ciwidey Valley Resort', '4. Glamping Legok Kondang Lodge', '5. Bumi Perkemahan Ranca Cangkuang PPTK Gambung', '6. Punceling Pas Camping Ground & Hot Spring', '7. Green Hill Ciwidey', '8. Bale Bambu Adventure Resort', '9. Hejo Forest', '10. Koboy Tjipelah Coffee & Camping Ground']\n"
          ]
        }
      ]
    },
    {
      "cell_type": "code",
      "source": [
        "rows = soup.find_all('figure', {'class':'wp-block-table'})\n",
        "for row in rows:\n",
        "  cols = row.find_all(['table', 'td'])\n",
        "  for col in cols:\n",
        "    print(col.text.strip(), end='\\t')\n",
        "    print()"
      ],
      "metadata": {
        "colab": {
          "base_uri": "https://localhost:8080/"
        },
        "id": "AWp3Ciw2p8gV",
        "outputId": "29884c8a-d44e-4aec-facb-1d76cdd18754"
      },
      "execution_count": 4,
      "outputs": [
        {
          "output_type": "stream",
          "name": "stdout",
          "text": [
            "LokasiJl. Raya Ciwidey – Patengan No.Km, RW.39, Situ, Patengan, Kec. Rancabali, Bandung, Jawa Barat.Jam bukaSetiap hari, jam 08.00-17.00 (wisata). 24 jam (penginapan).Harga paket wisataSayang Heulang Resort: Rp2,04juta. Lakeside Tent Resort: Rp1,59juta. Family Tent Resort: Rp2,04juta. Keong Tent Resort: Rp1,14juta.Telepon0821-1600-3334.Rating ulasan4,4 dari 14.039 ulasan Google.Wana wisata di sekitarSitu Patenggang, Restoran Kapal Pinisi.\t\n",
            "Lokasi\t\n",
            "Jl. Raya Ciwidey – Patengan No.Km, RW.39, Situ, Patengan, Kec. Rancabali, Bandung, Jawa Barat.\t\n",
            "Jam buka\t\n",
            "Setiap hari, jam 08.00-17.00 (wisata). 24 jam (penginapan).\t\n",
            "Harga paket wisata\t\n",
            "Sayang Heulang Resort: Rp2,04juta. Lakeside Tent Resort: Rp1,59juta. Family Tent Resort: Rp2,04juta. Keong Tent Resort: Rp1,14juta.\t\n",
            "Telepon\t\n",
            "0821-1600-3334.\t\n",
            "Rating ulasan\t\n",
            "4,4 dari 14.039 ulasan Google.\t\n",
            "Wana wisata di sekitar\t\n",
            "Situ Patenggang, Restoran Kapal Pinisi.\t\n",
            "LokasiJl. Raya Ciwidey – Patengan No.KM. 11, Patengan, Kec. Rancabali, Bandung, Jawa Barat.Jam bukaSetiap hari, jam 07.00-16.00 WIB (wisata dan penangkaran rusa). 24 jam (perkemahan).Harga paket wisataRp800-900 ribu per malam (kabin).Telepon0812-2345-6911.Rating ulasan4,5/5 dari 8.793 ulasan Google.Wana wisata di sekitarKawah Putih, Kampung Cai Ranca Upas.\t\n",
            "Lokasi\t\n",
            "Jl. Raya Ciwidey – Patengan No.KM. 11, Patengan, Kec. Rancabali, Bandung, Jawa Barat.\t\n",
            "Jam buka\t\n",
            "Setiap hari, jam 07.00-16.00 WIB (wisata dan penangkaran rusa). 24 jam (perkemahan).\t\n",
            "Harga paket wisata\t\n",
            "Rp800-900 ribu per malam (kabin).\t\n",
            "Telepon\t\n",
            "0812-2345-6911.\t\n",
            "Rating ulasan\t\n",
            "4,5/5 dari 8.793 ulasan Google.\t\n",
            "Wana wisata di sekitar\t\n",
            "Kawah Putih, Kampung Cai Ranca Upas.\t\n",
            "LokasiJl. Barutunggul KM. 17 Ciwidey, Alamendah, Kec. Rancabali, Bandung, Jawa Barat.Jam bukaSetiap hari, jam 07.00-21.00 WIB.Harga paket wisataTiket masuk: Rp20.000,00. TIket kolam renang: Rp50.000,00. Cottage glamping: Rp950.000,00. Standard camping ground: Rp541.000,00. Cottage: Rp741.000,00. Deluxe Room:  Rp1,2 juta.Telepon(022) 85920222.Rating ulasan4.3 dari 7,686 ulasan Google.Wana wisata di sekitarKawah Putih, taman bermain anak, kolam renang rekreasi, whirpool.\t\n",
            "Lokasi\t\n",
            "Jl. Barutunggul KM. 17 Ciwidey, Alamendah, Kec. Rancabali, Bandung, Jawa Barat.\t\n",
            "Jam buka\t\n",
            "Setiap hari, jam 07.00-21.00 WIB.\t\n",
            "Harga paket wisata\t\n",
            "Tiket masuk: Rp20.000,00. TIket kolam renang: Rp50.000,00. Cottage glamping: Rp950.000,00. Standard camping ground: Rp541.000,00. Cottage: Rp741.000,00. Deluxe Room:  Rp1,2 juta.\t\n",
            "Telepon\t\n",
            "(022) 85920222.\t\n",
            "Rating ulasan\t\n",
            "4.3 dari 7,686 ulasan Google.\t\n",
            "Wana wisata di sekitar\t\n",
            "Kawah Putih, taman bermain anak, kolam renang rekreasi, whirpool.\t\n",
            "LokasiJalan Kurunangan Lebak Muncang, Lebakmuncang, Kec. Ciwidey, Bandung, Jawa Barat.Jam bukaSetiap hari, jam 06.00-23.00 WIB.Harga paket wisataLegok Kondang Luxury Suite: Rp2,5 juta (1 lantai) dan Rp3,2 juta (2 lantai). Luxury Tent: Rp2,3 juta per malam. Family tent: Rp2 juta per malam. Deluxe tent: Rp1,2 juta per malam. Standard Tent: Rp1,2 juta per malam.Telepon0813 – 1817 0 9889.Rating ulasan4.5 dari 1,579 ulasan Google.Wana wisata di sekitarKawah Putih, sungai, kolam ikan.\t\n",
            "Lokasi\t\n",
            "Jalan Kurunangan Lebak Muncang, Lebakmuncang, Kec. Ciwidey, Bandung, Jawa Barat.\t\n",
            "Jam buka\t\n",
            "Setiap hari, jam 06.00-23.00 WIB.\t\n",
            "Harga paket wisata\t\n",
            "Legok Kondang Luxury Suite: Rp2,5 juta (1 lantai) dan Rp3,2 juta (2 lantai). Luxury Tent: Rp2,3 juta per malam. Family tent: Rp2 juta per malam. Deluxe tent: Rp1,2 juta per malam. Standard Tent: Rp1,2 juta per malam.\t\n",
            "Telepon\t\n",
            "0813 – 1817 0 9889.\t\n",
            "Rating ulasan\t\n",
            "4.5 dari 1,579 ulasan Google.\t\n",
            "Wana wisata di sekitar\t\n",
            "Kawah Putih, sungai, kolam ikan.\t\n",
            "LokasiMekarsari, Pasirjambu, Bandung, Jawa Barat.Jam bukaSetiap hari, jam 06.00-23.00 WIB.Harga paket wisataPaket Tenda Dome: Rp165.000,00-Rp415.000,00. Paket Tenda Charly: Rp330.000,00-Rp797.000,00. Paket Tenda Gama: Rp275.000,00-Rp588.000,00. Paket tenda Roofi: Rp440.000,00-Rp1,265 juta.Telepon0815-7360-0561.Rating ulasan4.5 dari 114 ulasan Google.Wana wisata di sekitarLembah Gambung, The Only Warung.\t\n",
            "Lokasi\t\n",
            "Mekarsari, Pasirjambu, Bandung, Jawa Barat.\t\n",
            "Jam buka\t\n",
            "Setiap hari, jam 06.00-23.00 WIB.\t\n",
            "Harga paket wisata\t\n",
            "Paket Tenda Dome: Rp165.000,00-Rp415.000,00. Paket Tenda Charly: Rp330.000,00-Rp797.000,00. Paket Tenda Gama: Rp275.000,00-Rp588.000,00. Paket tenda Roofi: Rp440.000,00-Rp1,265 juta.\t\n",
            "Telepon\t\n",
            "0815-7360-0561.\t\n",
            "Rating ulasan\t\n",
            "4.5 dari 114 ulasan Google.\t\n",
            "Wana wisata di sekitar\t\n",
            "Lembah Gambung, The Only Warung.\t\n",
            "LokasiLebakmuncang, Ciwidey, Bandung, Jawa Barat.Jam bukaSetiap hari, jam 08.00-17.00 WIB.Harga paket wisataHarga tiket masuk: Rp15.000,00. Paket Reguler: Rp300.000,00. Paket Medium: Rp575.000,00. Paket Premium: Rp750.000,00.Telepon0813-2263-2387.Rating ulasan4.3 dari 283 ulasan Google.Wana wisata di sekitarKawah Putih, Situ Patenggang, offroad, arung jeram.\t\n",
            "Lokasi\t\n",
            "Lebakmuncang, Ciwidey, Bandung, Jawa Barat.\t\n",
            "Jam buka\t\n",
            "Setiap hari, jam 08.00-17.00 WIB.\t\n",
            "Harga paket wisata\t\n",
            "Harga tiket masuk: Rp15.000,00. Paket Reguler: Rp300.000,00. Paket Medium: Rp575.000,00. Paket Premium: Rp750.000,00.\t\n",
            "Telepon\t\n",
            "0813-2263-2387.\t\n",
            "Rating ulasan\t\n",
            "4.3 dari 283 ulasan Google.\t\n",
            "Wana wisata di sekitar\t\n",
            "Kawah Putih, Situ Patenggang, offroad, arung jeram.\t\n",
            "LokasiJl. Raya Ciwidey – Patengan No.946, Patengan, Kec. Rancabali, Bandung, Jawa Barat.Jam bukaSetiap hari, 24 jam.Harga paket wisataHarga tiket masuk: Rp40.000,00. Api unggun: Rp25.000,00. Trekking: Rp15.000,00. Outbound: Rp70.000,00. Paintball: Rp175.000,00. Bungalow Pangrango: Rp2,5 juta. Bungalow Bromo: Rp2 juta. Bungalow Salak: Rp1,7 juta. Bungalow Guntur: Rp1,5 juta. Saung Ngampar: Rp1,5-1,8 juta. Tenda: Rp1-1,4 juta.Telepon0812-9000-0915.Rating ulasan4.4 dari 121 ulasan Google.Wana wisata di sekitarCentral Alamendah Arboretum Park, Kawah Putih, sauna, kolam terapi ikan, restoran.\t\n",
            "Lokasi\t\n",
            "Jl. Raya Ciwidey – Patengan No.946, Patengan, Kec. Rancabali, Bandung, Jawa Barat.\t\n",
            "Jam buka\t\n",
            "Setiap hari, 24 jam.\t\n",
            "Harga paket wisata\t\n",
            "Harga tiket masuk: Rp40.000,00. Api unggun: Rp25.000,00. Trekking: Rp15.000,00. Outbound: Rp70.000,00. Paintball: Rp175.000,00. Bungalow Pangrango: Rp2,5 juta. Bungalow Bromo: Rp2 juta. Bungalow Salak: Rp1,7 juta. Bungalow Guntur: Rp1,5 juta. Saung Ngampar: Rp1,5-1,8 juta. Tenda: Rp1-1,4 juta.\t\n",
            "Telepon\t\n",
            "0812-9000-0915.\t\n",
            "Rating ulasan\t\n",
            "4.4 dari 121 ulasan Google.\t\n",
            "Wana wisata di sekitar\t\n",
            "Central Alamendah Arboretum Park, Kawah Putih, sauna, kolam terapi ikan, restoran.\t\n",
            "LokasiJl. Raya Soreang-Ciwidey KM. 23, Sukajadi, Soreang, Sukajadi, Kec. Soreang, Bandung, Jawa BaratJam bukaSetiap hari, 08.00 WIB-20.00 WIBHarga paket wisataCamping: Rp200.000,00 Rafting: Rp180.000,00-Rp400.000,00 Paintball: Rp150.000,00 Panahan: Rp150.000,00 Offroad: Rp300.000,00Telepon 0813-2171-3395Rating ulasan4.3 dari 86 ulasan GoogleWana wisata di sekitarCentral Alamendah Arboretum Park, Kawah Putih, paintball, arung jeram, offroad\t\n",
            "Lokasi\t\n",
            "Jl. Raya Soreang-Ciwidey KM. 23, Sukajadi, Soreang, Sukajadi, Kec. Soreang, Bandung, Jawa Barat\t\n",
            "Jam buka\t\n",
            "Setiap hari, 08.00 WIB-20.00 WIB\t\n",
            "Harga paket wisata\t\n",
            "Camping: Rp200.000,00 Rafting: Rp180.000,00-Rp400.000,00 Paintball: Rp150.000,00 Panahan: Rp150.000,00 Offroad: Rp300.000,00\t\n",
            "Telepon\t\n",
            "0813-2171-3395\t\n",
            "Rating ulasan\t\n",
            "4.3 dari 86 ulasan Google\t\n",
            "Wana wisata di sekitar\t\n",
            "Central Alamendah Arboretum Park, Kawah Putih, paintball, arung jeram, offroad\t\n",
            "LokasiPatengan, Rancabali, Bandung, Jawa Barat.Jam bukaSenin-Jumat, 24 jam.Harga paket wisataCamping: Rp200.000,00. Rafting: Rp180.000,00-Rp400.000,00. Paintball: Rp150.000,00. Panahan: Rp150.000,00. Offroad: Rp300.000,00.Telepon 0821-1388-7808.Rating ulasan4.5 dari 65 ulasan Google.Wana wisata di sekitarHutan avatar, kolam air panas, outbound, paintball, hammock park.\t\n",
            "Lokasi\t\n",
            "Patengan, Rancabali, Bandung, Jawa Barat.\t\n",
            "Jam buka\t\n",
            "Senin-Jumat, 24 jam.\t\n",
            "Harga paket wisata\t\n",
            "Camping: Rp200.000,00. Rafting: Rp180.000,00-Rp400.000,00. Paintball: Rp150.000,00. Panahan: Rp150.000,00. Offroad: Rp300.000,00.\t\n",
            "Telepon\t\n",
            "0821-1388-7808.\t\n",
            "Rating ulasan\t\n",
            "4.5 dari 65 ulasan Google.\t\n",
            "Wana wisata di sekitar\t\n",
            "Hutan avatar, kolam air panas, outbound, paintball, hammock park.\t\n",
            "LokasiJl. Raya Ciwidey – Patengan, Patengan, Kec. Rancabali, Bandung, Jawa Barat.Jam bukaSenin-Jumat dan Minggu: 09.00 WIB-23.00 WIB. Sabtu: 09.00 WIB – 22.30 WIB.Harga paket wisata–Telepon 0821-3070-0664.Rating ulasan4.6 dari 59 ulasan Google.Wana wisata di sekitarKafe, live music.\t\n",
            "Lokasi\t\n",
            "Jl. Raya Ciwidey – Patengan, Patengan, Kec. Rancabali, Bandung, Jawa Barat.\t\n",
            "Jam buka\t\n",
            "Senin-Jumat dan Minggu: 09.00 WIB-23.00 WIB. Sabtu: 09.00 WIB – 22.30 WIB.\t\n",
            "Harga paket wisata\t\n",
            "–\t\n",
            "Telepon\t\n",
            "0821-3070-0664.\t\n",
            "Rating ulasan\t\n",
            "4.6 dari 59 ulasan Google.\t\n",
            "Wana wisata di sekitar\t\n",
            "Kafe, live music.\t\n"
          ]
        }
      ]
    },
    {
      "cell_type": "code",
      "source": [
        "list_data_all = []\n",
        "for idx, row in enumerate(rows):\n",
        "  dic = {}\n",
        "  dic['Tempat'] = tempat_list[idx]\n",
        "  dic['Lokasi'] = row.find_all('td')[1].text\n",
        "  dic['Jam buka'] = row.find_all('td')[3].text\n",
        "  dic['Harga'] = row.find_all('td')[5].text.replace(',00', '')\n",
        "\n",
        "  list_data_all.append(dic)\n",
        "print(list_data_all)"
      ],
      "metadata": {
        "colab": {
          "base_uri": "https://localhost:8080/"
        },
        "id": "72ze9wPXqbxE",
        "outputId": "e6d7dba4-afb3-4399-a7e0-94e6dc1dfb50"
      },
      "execution_count": 5,
      "outputs": [
        {
          "output_type": "stream",
          "name": "stdout",
          "text": [
            "[{'Tempat': '1. Glamping Lakeside Rancabali', 'Lokasi': 'Jl. Raya Ciwidey – Patengan No.Km, RW.39, Situ, Patengan, Kec. Rancabali, Bandung, Jawa Barat.', 'Jam buka': 'Setiap hari, jam 08.00-17.00 (wisata). 24 jam (penginapan).', 'Harga': 'Sayang Heulang Resort: Rp2,04juta. Lakeside Tent Resort: Rp1,59juta. Family Tent Resort: Rp2,04juta. Keong Tent Resort: Rp1,14juta.'}, {'Tempat': '2. Ranca Upas', 'Lokasi': 'Jl. Raya Ciwidey – Patengan No.KM. 11, Patengan, Kec. Rancabali, Bandung, Jawa Barat.', 'Jam buka': 'Setiap hari, jam 07.00-16.00 WIB (wisata dan penangkaran rusa). 24 jam (perkemahan).', 'Harga': 'Rp800-900 ribu per malam (kabin).'}, {'Tempat': '3. Ciwidey Valley Resort', 'Lokasi': 'Jl. Barutunggul KM. 17 Ciwidey, Alamendah, Kec. Rancabali, Bandung, Jawa Barat.', 'Jam buka': 'Setiap hari, jam 07.00-21.00 WIB.', 'Harga': 'Tiket masuk: Rp20.000. TIket kolam renang: Rp50.000. Cottage glamping: Rp950.000. Standard camping ground: Rp541.000. Cottage: Rp741.000. Deluxe Room:\\xa0 Rp1,2 juta.'}, {'Tempat': '4. Glamping Legok Kondang Lodge', 'Lokasi': 'Jalan Kurunangan Lebak Muncang, Lebakmuncang, Kec. Ciwidey, Bandung, Jawa Barat.', 'Jam buka': 'Setiap hari, jam 06.00-23.00 WIB.', 'Harga': 'Legok Kondang Luxury Suite: Rp2,5 juta (1 lantai) dan Rp3,2 juta (2 lantai). Luxury Tent: Rp2,3 juta per malam. Family tent: Rp2 juta per malam. Deluxe tent: Rp1,2 juta per malam. Standard Tent: Rp1,2 juta per malam.'}, {'Tempat': '5. Bumi Perkemahan Ranca Cangkuang PPTK Gambung', 'Lokasi': 'Mekarsari, Pasirjambu, Bandung, Jawa Barat.', 'Jam buka': 'Setiap hari, jam 06.00-23.00 WIB.', 'Harga': 'Paket Tenda Dome: Rp165.000-Rp415.000. Paket Tenda Charly: Rp330.000-Rp797.000. Paket Tenda Gama: Rp275.000-Rp588.000. Paket tenda Roofi: Rp440.000-Rp1,265 juta.'}, {'Tempat': '6. Punceling Pas Camping Ground & Hot Spring', 'Lokasi': 'Lebakmuncang, Ciwidey, Bandung, Jawa Barat.', 'Jam buka': 'Setiap hari, jam 08.00-17.00 WIB.', 'Harga': 'Harga tiket masuk: Rp15.000. Paket Reguler: Rp300.000. Paket Medium: Rp575.000. Paket Premium: Rp750.000.'}, {'Tempat': '7. Green Hill Ciwidey', 'Lokasi': 'Jl. Raya Ciwidey – Patengan No.946, Patengan, Kec. Rancabali, Bandung, Jawa Barat.', 'Jam buka': 'Setiap hari, 24 jam.', 'Harga': 'Harga tiket masuk: Rp40.000. Api unggun: Rp25.000. Trekking: Rp15.000. Outbound: Rp70.000. Paintball: Rp175.000. Bungalow Pangrango: Rp2,5 juta. Bungalow Bromo: Rp2 juta. Bungalow Salak: Rp1,7 juta. Bungalow Guntur: Rp1,5 juta. Saung Ngampar: Rp1,5-1,8 juta. Tenda: Rp1-1,4 juta.'}, {'Tempat': '8. Bale Bambu Adventure Resort', 'Lokasi': 'Jl. Raya Soreang-Ciwidey KM. 23, Sukajadi, Soreang, Sukajadi, Kec. Soreang, Bandung, Jawa Barat', 'Jam buka': 'Setiap hari, 08.00 WIB-20.00 WIB', 'Harga': 'Camping: Rp200.000 Rafting: Rp180.000-Rp400.000 Paintball: Rp150.000 Panahan: Rp150.000 Offroad: Rp300.000'}, {'Tempat': '9. Hejo Forest', 'Lokasi': 'Patengan, Rancabali, Bandung, Jawa Barat.', 'Jam buka': 'Senin-Jumat, 24 jam.', 'Harga': 'Camping: Rp200.000. Rafting: Rp180.000-Rp400.000. Paintball: Rp150.000. Panahan: Rp150.000. Offroad: Rp300.000.'}, {'Tempat': '10. Koboy Tjipelah Coffee & Camping Ground', 'Lokasi': 'Jl. Raya Ciwidey – Patengan, Patengan, Kec. Rancabali, Bandung, Jawa Barat.', 'Jam buka': 'Senin-Jumat dan Minggu: 09.00 WIB-23.00 WIB. Sabtu: 09.00 WIB – 22.30 WIB.', 'Harga': '–'}]\n"
          ]
        }
      ]
    },
    {
      "cell_type": "code",
      "source": [
        "df = pd.DataFrame(list_data_all)\n",
        "df.to_excel('camp_ciwidey.xlsx', index=False)\n",
        "df.to_csv('camp_ciwidey.csv', index=False)"
      ],
      "metadata": {
        "id": "iEd08mNnqgf4"
      },
      "execution_count": null,
      "outputs": []
    }
  ]
}