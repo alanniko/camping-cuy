{
  "cells": [
    {
      "cell_type": "code",
      "execution_count": 129,
      "metadata": {
        "id": "ye4-Y0BU4fIy"
      },
      "outputs": [],
      "source": [
        "import numpy as np\n",
        "import pandas as pd\n",
        "import matplotlib.pyplot as plt\n",
        "import os\n",
        "import warnings\n",
        "import tensorflow as tf\n",
        "import seaborn as sns\n",
        "import math\n",
        "import sys\n",
        "from math import sqrt\n",
        "\n",
        "from tensorflow.keras.losses import binary_crossentropy\n",
        "from tensorflow.keras.layers import *\n",
        "from tensorflow.keras import backend as K\n",
        "from tensorflow.keras.layers import Embedding, Flatten, Concatenate\n",
        "from tensorflow.keras.models import Model\n",
        "from tensorflow.keras.layers import Dense\n",
        "from tensorflow.keras.layers import Input, Reshape, Dot\n",
        "from tensorflow.keras.optimizers import Adam\n",
        "from tensorflow.keras.regularizers import l2\n",
        "\n",
        "from sklearn.model_selection import train_test_split\n",
        "from sklearn.preprocessing import LabelEncoder, MinMaxScaler\n",
        "from sklearn.metrics import roc_curve, accuracy_score\n",
        "from sklearn.metrics import roc_auc_score, log_loss\n",
        "from sklearn.metrics import precision_recall_curve\n",
        "from sklearn.metrics import mean_squared_error, r2_score\n",
        "\n",
        "warnings.filterwarnings('ignore')\n",
        "%matplotlib inline"
      ]
    },
    {
      "cell_type": "code",
      "execution_count": 130,
      "metadata": {
        "colab": {
          "base_uri": "https://localhost:8080/",
          "height": 206
        },
        "id": "oiwsqfxB4nbD",
        "outputId": "7af53e83-2f82-406b-de74-5e561d4c49ff"
      },
      "outputs": [
        {
          "output_type": "execute_result",
          "data": {
            "text/plain": [
              "  user_id camping_id  nama_camping  rating  \\\n",
              "0   U0001      C0001  Buper Ipukan       4   \n",
              "1   U0002      C0001  Buper Ipukan       4   \n",
              "2   U0003      C0001  Buper Ipukan       5   \n",
              "3   U0004      C0001  Buper Ipukan       5   \n",
              "4   U0005      C0001  Buper Ipukan       5   \n",
              "\n",
              "                                              review  \n",
              "0  The place has a really forest atmosphere, the ...  \n",
              "1                                     Bnyak byar nya  \n",
              "2  Very suitable for traveling to relieve fatigue...  \n",
              "3  A comfortable place to camp with friends or fa...  \n",
              "4  The view is great, the air is cool for the min...  "
            ],
            "text/html": [
              "\n",
              "  <div id=\"df-b45ccd10-fa31-42ed-8023-adc1aafaef82\" class=\"colab-df-container\">\n",
              "    <div>\n",
              "<style scoped>\n",
              "    .dataframe tbody tr th:only-of-type {\n",
              "        vertical-align: middle;\n",
              "    }\n",
              "\n",
              "    .dataframe tbody tr th {\n",
              "        vertical-align: top;\n",
              "    }\n",
              "\n",
              "    .dataframe thead th {\n",
              "        text-align: right;\n",
              "    }\n",
              "</style>\n",
              "<table border=\"1\" class=\"dataframe\">\n",
              "  <thead>\n",
              "    <tr style=\"text-align: right;\">\n",
              "      <th></th>\n",
              "      <th>user_id</th>\n",
              "      <th>camping_id</th>\n",
              "      <th>nama_camping</th>\n",
              "      <th>rating</th>\n",
              "      <th>review</th>\n",
              "    </tr>\n",
              "  </thead>\n",
              "  <tbody>\n",
              "    <tr>\n",
              "      <th>0</th>\n",
              "      <td>U0001</td>\n",
              "      <td>C0001</td>\n",
              "      <td>Buper Ipukan</td>\n",
              "      <td>4</td>\n",
              "      <td>The place has a really forest atmosphere, the ...</td>\n",
              "    </tr>\n",
              "    <tr>\n",
              "      <th>1</th>\n",
              "      <td>U0002</td>\n",
              "      <td>C0001</td>\n",
              "      <td>Buper Ipukan</td>\n",
              "      <td>4</td>\n",
              "      <td>Bnyak byar nya</td>\n",
              "    </tr>\n",
              "    <tr>\n",
              "      <th>2</th>\n",
              "      <td>U0003</td>\n",
              "      <td>C0001</td>\n",
              "      <td>Buper Ipukan</td>\n",
              "      <td>5</td>\n",
              "      <td>Very suitable for traveling to relieve fatigue...</td>\n",
              "    </tr>\n",
              "    <tr>\n",
              "      <th>3</th>\n",
              "      <td>U0004</td>\n",
              "      <td>C0001</td>\n",
              "      <td>Buper Ipukan</td>\n",
              "      <td>5</td>\n",
              "      <td>A comfortable place to camp with friends or fa...</td>\n",
              "    </tr>\n",
              "    <tr>\n",
              "      <th>4</th>\n",
              "      <td>U0005</td>\n",
              "      <td>C0001</td>\n",
              "      <td>Buper Ipukan</td>\n",
              "      <td>5</td>\n",
              "      <td>The view is great, the air is cool for the min...</td>\n",
              "    </tr>\n",
              "  </tbody>\n",
              "</table>\n",
              "</div>\n",
              "    <div class=\"colab-df-buttons\">\n",
              "\n",
              "  <div class=\"colab-df-container\">\n",
              "    <button class=\"colab-df-convert\" onclick=\"convertToInteractive('df-b45ccd10-fa31-42ed-8023-adc1aafaef82')\"\n",
              "            title=\"Convert this dataframe to an interactive table.\"\n",
              "            style=\"display:none;\">\n",
              "\n",
              "  <svg xmlns=\"http://www.w3.org/2000/svg\" height=\"24px\" viewBox=\"0 -960 960 960\">\n",
              "    <path d=\"M120-120v-720h720v720H120Zm60-500h600v-160H180v160Zm220 220h160v-160H400v160Zm0 220h160v-160H400v160ZM180-400h160v-160H180v160Zm440 0h160v-160H620v160ZM180-180h160v-160H180v160Zm440 0h160v-160H620v160Z\"/>\n",
              "  </svg>\n",
              "    </button>\n",
              "\n",
              "  <style>\n",
              "    .colab-df-container {\n",
              "      display:flex;\n",
              "      gap: 12px;\n",
              "    }\n",
              "\n",
              "    .colab-df-convert {\n",
              "      background-color: #E8F0FE;\n",
              "      border: none;\n",
              "      border-radius: 50%;\n",
              "      cursor: pointer;\n",
              "      display: none;\n",
              "      fill: #1967D2;\n",
              "      height: 32px;\n",
              "      padding: 0 0 0 0;\n",
              "      width: 32px;\n",
              "    }\n",
              "\n",
              "    .colab-df-convert:hover {\n",
              "      background-color: #E2EBFA;\n",
              "      box-shadow: 0px 1px 2px rgba(60, 64, 67, 0.3), 0px 1px 3px 1px rgba(60, 64, 67, 0.15);\n",
              "      fill: #174EA6;\n",
              "    }\n",
              "\n",
              "    .colab-df-buttons div {\n",
              "      margin-bottom: 4px;\n",
              "    }\n",
              "\n",
              "    [theme=dark] .colab-df-convert {\n",
              "      background-color: #3B4455;\n",
              "      fill: #D2E3FC;\n",
              "    }\n",
              "\n",
              "    [theme=dark] .colab-df-convert:hover {\n",
              "      background-color: #434B5C;\n",
              "      box-shadow: 0px 1px 3px 1px rgba(0, 0, 0, 0.15);\n",
              "      filter: drop-shadow(0px 1px 2px rgba(0, 0, 0, 0.3));\n",
              "      fill: #FFFFFF;\n",
              "    }\n",
              "  </style>\n",
              "\n",
              "    <script>\n",
              "      const buttonEl =\n",
              "        document.querySelector('#df-b45ccd10-fa31-42ed-8023-adc1aafaef82 button.colab-df-convert');\n",
              "      buttonEl.style.display =\n",
              "        google.colab.kernel.accessAllowed ? 'block' : 'none';\n",
              "\n",
              "      async function convertToInteractive(key) {\n",
              "        const element = document.querySelector('#df-b45ccd10-fa31-42ed-8023-adc1aafaef82');\n",
              "        const dataTable =\n",
              "          await google.colab.kernel.invokeFunction('convertToInteractive',\n",
              "                                                    [key], {});\n",
              "        if (!dataTable) return;\n",
              "\n",
              "        const docLinkHtml = 'Like what you see? Visit the ' +\n",
              "          '<a target=\"_blank\" href=https://colab.research.google.com/notebooks/data_table.ipynb>data table notebook</a>'\n",
              "          + ' to learn more about interactive tables.';\n",
              "        element.innerHTML = '';\n",
              "        dataTable['output_type'] = 'display_data';\n",
              "        await google.colab.output.renderOutput(dataTable, element);\n",
              "        const docLink = document.createElement('div');\n",
              "        docLink.innerHTML = docLinkHtml;\n",
              "        element.appendChild(docLink);\n",
              "      }\n",
              "    </script>\n",
              "  </div>\n",
              "\n",
              "\n",
              "<div id=\"df-917b5183-32f3-401f-a793-4b3f66e3d940\">\n",
              "  <button class=\"colab-df-quickchart\" onclick=\"quickchart('df-917b5183-32f3-401f-a793-4b3f66e3d940')\"\n",
              "            title=\"Suggest charts\"\n",
              "            style=\"display:none;\">\n",
              "\n",
              "<svg xmlns=\"http://www.w3.org/2000/svg\" height=\"24px\"viewBox=\"0 0 24 24\"\n",
              "     width=\"24px\">\n",
              "    <g>\n",
              "        <path d=\"M19 3H5c-1.1 0-2 .9-2 2v14c0 1.1.9 2 2 2h14c1.1 0 2-.9 2-2V5c0-1.1-.9-2-2-2zM9 17H7v-7h2v7zm4 0h-2V7h2v10zm4 0h-2v-4h2v4z\"/>\n",
              "    </g>\n",
              "</svg>\n",
              "  </button>\n",
              "\n",
              "<style>\n",
              "  .colab-df-quickchart {\n",
              "      --bg-color: #E8F0FE;\n",
              "      --fill-color: #1967D2;\n",
              "      --hover-bg-color: #E2EBFA;\n",
              "      --hover-fill-color: #174EA6;\n",
              "      --disabled-fill-color: #AAA;\n",
              "      --disabled-bg-color: #DDD;\n",
              "  }\n",
              "\n",
              "  [theme=dark] .colab-df-quickchart {\n",
              "      --bg-color: #3B4455;\n",
              "      --fill-color: #D2E3FC;\n",
              "      --hover-bg-color: #434B5C;\n",
              "      --hover-fill-color: #FFFFFF;\n",
              "      --disabled-bg-color: #3B4455;\n",
              "      --disabled-fill-color: #666;\n",
              "  }\n",
              "\n",
              "  .colab-df-quickchart {\n",
              "    background-color: var(--bg-color);\n",
              "    border: none;\n",
              "    border-radius: 50%;\n",
              "    cursor: pointer;\n",
              "    display: none;\n",
              "    fill: var(--fill-color);\n",
              "    height: 32px;\n",
              "    padding: 0;\n",
              "    width: 32px;\n",
              "  }\n",
              "\n",
              "  .colab-df-quickchart:hover {\n",
              "    background-color: var(--hover-bg-color);\n",
              "    box-shadow: 0 1px 2px rgba(60, 64, 67, 0.3), 0 1px 3px 1px rgba(60, 64, 67, 0.15);\n",
              "    fill: var(--button-hover-fill-color);\n",
              "  }\n",
              "\n",
              "  .colab-df-quickchart-complete:disabled,\n",
              "  .colab-df-quickchart-complete:disabled:hover {\n",
              "    background-color: var(--disabled-bg-color);\n",
              "    fill: var(--disabled-fill-color);\n",
              "    box-shadow: none;\n",
              "  }\n",
              "\n",
              "  .colab-df-spinner {\n",
              "    border: 2px solid var(--fill-color);\n",
              "    border-color: transparent;\n",
              "    border-bottom-color: var(--fill-color);\n",
              "    animation:\n",
              "      spin 1s steps(1) infinite;\n",
              "  }\n",
              "\n",
              "  @keyframes spin {\n",
              "    0% {\n",
              "      border-color: transparent;\n",
              "      border-bottom-color: var(--fill-color);\n",
              "      border-left-color: var(--fill-color);\n",
              "    }\n",
              "    20% {\n",
              "      border-color: transparent;\n",
              "      border-left-color: var(--fill-color);\n",
              "      border-top-color: var(--fill-color);\n",
              "    }\n",
              "    30% {\n",
              "      border-color: transparent;\n",
              "      border-left-color: var(--fill-color);\n",
              "      border-top-color: var(--fill-color);\n",
              "      border-right-color: var(--fill-color);\n",
              "    }\n",
              "    40% {\n",
              "      border-color: transparent;\n",
              "      border-right-color: var(--fill-color);\n",
              "      border-top-color: var(--fill-color);\n",
              "    }\n",
              "    60% {\n",
              "      border-color: transparent;\n",
              "      border-right-color: var(--fill-color);\n",
              "    }\n",
              "    80% {\n",
              "      border-color: transparent;\n",
              "      border-right-color: var(--fill-color);\n",
              "      border-bottom-color: var(--fill-color);\n",
              "    }\n",
              "    90% {\n",
              "      border-color: transparent;\n",
              "      border-bottom-color: var(--fill-color);\n",
              "    }\n",
              "  }\n",
              "</style>\n",
              "\n",
              "  <script>\n",
              "    async function quickchart(key) {\n",
              "      const quickchartButtonEl =\n",
              "        document.querySelector('#' + key + ' button');\n",
              "      quickchartButtonEl.disabled = true;  // To prevent multiple clicks.\n",
              "      quickchartButtonEl.classList.add('colab-df-spinner');\n",
              "      try {\n",
              "        const charts = await google.colab.kernel.invokeFunction(\n",
              "            'suggestCharts', [key], {});\n",
              "      } catch (error) {\n",
              "        console.error('Error during call to suggestCharts:', error);\n",
              "      }\n",
              "      quickchartButtonEl.classList.remove('colab-df-spinner');\n",
              "      quickchartButtonEl.classList.add('colab-df-quickchart-complete');\n",
              "    }\n",
              "    (() => {\n",
              "      let quickchartButtonEl =\n",
              "        document.querySelector('#df-917b5183-32f3-401f-a793-4b3f66e3d940 button');\n",
              "      quickchartButtonEl.style.display =\n",
              "        google.colab.kernel.accessAllowed ? 'block' : 'none';\n",
              "    })();\n",
              "  </script>\n",
              "</div>\n",
              "    </div>\n",
              "  </div>\n"
            ]
          },
          "metadata": {},
          "execution_count": 130
        }
      ],
      "source": [
        "camping_df = pd.read_csv('review_camping.csv')\n",
        "camping_df.head()"
      ]
    },
    {
      "cell_type": "code",
      "execution_count": 131,
      "metadata": {
        "colab": {
          "base_uri": "https://localhost:8080/"
        },
        "id": "svD4jBL14zSY",
        "outputId": "3e024e49-be52-41f3-b354-bbce9499eb11"
      },
      "outputs": [
        {
          "output_type": "stream",
          "name": "stdout",
          "text": [
            "<class 'pandas.core.frame.DataFrame'>\n",
            "RangeIndex: 592 entries, 0 to 591\n",
            "Data columns (total 5 columns):\n",
            " #   Column        Non-Null Count  Dtype \n",
            "---  ------        --------------  ----- \n",
            " 0   user_id       592 non-null    object\n",
            " 1   camping_id    592 non-null    object\n",
            " 2   nama_camping  592 non-null    object\n",
            " 3   rating        592 non-null    int64 \n",
            " 4   review        592 non-null    object\n",
            "dtypes: int64(1), object(4)\n",
            "memory usage: 23.2+ KB\n"
          ]
        }
      ],
      "source": [
        "camping_df.info()"
      ]
    },
    {
      "cell_type": "code",
      "execution_count": 132,
      "metadata": {
        "id": "lskAuk_o5Wcq"
      },
      "outputs": [],
      "source": [
        "df = camping_df\n",
        "df.columns = df.columns.str.replace(' ', '_')"
      ]
    },
    {
      "cell_type": "code",
      "execution_count": 133,
      "metadata": {
        "colab": {
          "base_uri": "https://localhost:8080/",
          "height": 206
        },
        "id": "xulP3KWo5gcz",
        "outputId": "17e41b15-1dc9-4b6d-a2ba-e2e1828b12c3"
      },
      "outputs": [
        {
          "output_type": "execute_result",
          "data": {
            "text/plain": [
              "  user_id camping_id  nama_camping  rating  \\\n",
              "0   U0001      C0001  Buper Ipukan       4   \n",
              "1   U0002      C0001  Buper Ipukan       4   \n",
              "2   U0003      C0001  Buper Ipukan       5   \n",
              "3   U0004      C0001  Buper Ipukan       5   \n",
              "4   U0005      C0001  Buper Ipukan       5   \n",
              "\n",
              "                                              review  \n",
              "0  The place has a really forest atmosphere, the ...  \n",
              "1                                     Bnyak byar nya  \n",
              "2  Very suitable for traveling to relieve fatigue...  \n",
              "3  A comfortable place to camp with friends or fa...  \n",
              "4  The view is great, the air is cool for the min...  "
            ],
            "text/html": [
              "\n",
              "  <div id=\"df-3fcbcb0b-e800-441f-b063-24cda7d638b3\" class=\"colab-df-container\">\n",
              "    <div>\n",
              "<style scoped>\n",
              "    .dataframe tbody tr th:only-of-type {\n",
              "        vertical-align: middle;\n",
              "    }\n",
              "\n",
              "    .dataframe tbody tr th {\n",
              "        vertical-align: top;\n",
              "    }\n",
              "\n",
              "    .dataframe thead th {\n",
              "        text-align: right;\n",
              "    }\n",
              "</style>\n",
              "<table border=\"1\" class=\"dataframe\">\n",
              "  <thead>\n",
              "    <tr style=\"text-align: right;\">\n",
              "      <th></th>\n",
              "      <th>user_id</th>\n",
              "      <th>camping_id</th>\n",
              "      <th>nama_camping</th>\n",
              "      <th>rating</th>\n",
              "      <th>review</th>\n",
              "    </tr>\n",
              "  </thead>\n",
              "  <tbody>\n",
              "    <tr>\n",
              "      <th>0</th>\n",
              "      <td>U0001</td>\n",
              "      <td>C0001</td>\n",
              "      <td>Buper Ipukan</td>\n",
              "      <td>4</td>\n",
              "      <td>The place has a really forest atmosphere, the ...</td>\n",
              "    </tr>\n",
              "    <tr>\n",
              "      <th>1</th>\n",
              "      <td>U0002</td>\n",
              "      <td>C0001</td>\n",
              "      <td>Buper Ipukan</td>\n",
              "      <td>4</td>\n",
              "      <td>Bnyak byar nya</td>\n",
              "    </tr>\n",
              "    <tr>\n",
              "      <th>2</th>\n",
              "      <td>U0003</td>\n",
              "      <td>C0001</td>\n",
              "      <td>Buper Ipukan</td>\n",
              "      <td>5</td>\n",
              "      <td>Very suitable for traveling to relieve fatigue...</td>\n",
              "    </tr>\n",
              "    <tr>\n",
              "      <th>3</th>\n",
              "      <td>U0004</td>\n",
              "      <td>C0001</td>\n",
              "      <td>Buper Ipukan</td>\n",
              "      <td>5</td>\n",
              "      <td>A comfortable place to camp with friends or fa...</td>\n",
              "    </tr>\n",
              "    <tr>\n",
              "      <th>4</th>\n",
              "      <td>U0005</td>\n",
              "      <td>C0001</td>\n",
              "      <td>Buper Ipukan</td>\n",
              "      <td>5</td>\n",
              "      <td>The view is great, the air is cool for the min...</td>\n",
              "    </tr>\n",
              "  </tbody>\n",
              "</table>\n",
              "</div>\n",
              "    <div class=\"colab-df-buttons\">\n",
              "\n",
              "  <div class=\"colab-df-container\">\n",
              "    <button class=\"colab-df-convert\" onclick=\"convertToInteractive('df-3fcbcb0b-e800-441f-b063-24cda7d638b3')\"\n",
              "            title=\"Convert this dataframe to an interactive table.\"\n",
              "            style=\"display:none;\">\n",
              "\n",
              "  <svg xmlns=\"http://www.w3.org/2000/svg\" height=\"24px\" viewBox=\"0 -960 960 960\">\n",
              "    <path d=\"M120-120v-720h720v720H120Zm60-500h600v-160H180v160Zm220 220h160v-160H400v160Zm0 220h160v-160H400v160ZM180-400h160v-160H180v160Zm440 0h160v-160H620v160ZM180-180h160v-160H180v160Zm440 0h160v-160H620v160Z\"/>\n",
              "  </svg>\n",
              "    </button>\n",
              "\n",
              "  <style>\n",
              "    .colab-df-container {\n",
              "      display:flex;\n",
              "      gap: 12px;\n",
              "    }\n",
              "\n",
              "    .colab-df-convert {\n",
              "      background-color: #E8F0FE;\n",
              "      border: none;\n",
              "      border-radius: 50%;\n",
              "      cursor: pointer;\n",
              "      display: none;\n",
              "      fill: #1967D2;\n",
              "      height: 32px;\n",
              "      padding: 0 0 0 0;\n",
              "      width: 32px;\n",
              "    }\n",
              "\n",
              "    .colab-df-convert:hover {\n",
              "      background-color: #E2EBFA;\n",
              "      box-shadow: 0px 1px 2px rgba(60, 64, 67, 0.3), 0px 1px 3px 1px rgba(60, 64, 67, 0.15);\n",
              "      fill: #174EA6;\n",
              "    }\n",
              "\n",
              "    .colab-df-buttons div {\n",
              "      margin-bottom: 4px;\n",
              "    }\n",
              "\n",
              "    [theme=dark] .colab-df-convert {\n",
              "      background-color: #3B4455;\n",
              "      fill: #D2E3FC;\n",
              "    }\n",
              "\n",
              "    [theme=dark] .colab-df-convert:hover {\n",
              "      background-color: #434B5C;\n",
              "      box-shadow: 0px 1px 3px 1px rgba(0, 0, 0, 0.15);\n",
              "      filter: drop-shadow(0px 1px 2px rgba(0, 0, 0, 0.3));\n",
              "      fill: #FFFFFF;\n",
              "    }\n",
              "  </style>\n",
              "\n",
              "    <script>\n",
              "      const buttonEl =\n",
              "        document.querySelector('#df-3fcbcb0b-e800-441f-b063-24cda7d638b3 button.colab-df-convert');\n",
              "      buttonEl.style.display =\n",
              "        google.colab.kernel.accessAllowed ? 'block' : 'none';\n",
              "\n",
              "      async function convertToInteractive(key) {\n",
              "        const element = document.querySelector('#df-3fcbcb0b-e800-441f-b063-24cda7d638b3');\n",
              "        const dataTable =\n",
              "          await google.colab.kernel.invokeFunction('convertToInteractive',\n",
              "                                                    [key], {});\n",
              "        if (!dataTable) return;\n",
              "\n",
              "        const docLinkHtml = 'Like what you see? Visit the ' +\n",
              "          '<a target=\"_blank\" href=https://colab.research.google.com/notebooks/data_table.ipynb>data table notebook</a>'\n",
              "          + ' to learn more about interactive tables.';\n",
              "        element.innerHTML = '';\n",
              "        dataTable['output_type'] = 'display_data';\n",
              "        await google.colab.output.renderOutput(dataTable, element);\n",
              "        const docLink = document.createElement('div');\n",
              "        docLink.innerHTML = docLinkHtml;\n",
              "        element.appendChild(docLink);\n",
              "      }\n",
              "    </script>\n",
              "  </div>\n",
              "\n",
              "\n",
              "<div id=\"df-a9c7bb5f-8b89-40f5-a891-ede6252e3e6f\">\n",
              "  <button class=\"colab-df-quickchart\" onclick=\"quickchart('df-a9c7bb5f-8b89-40f5-a891-ede6252e3e6f')\"\n",
              "            title=\"Suggest charts\"\n",
              "            style=\"display:none;\">\n",
              "\n",
              "<svg xmlns=\"http://www.w3.org/2000/svg\" height=\"24px\"viewBox=\"0 0 24 24\"\n",
              "     width=\"24px\">\n",
              "    <g>\n",
              "        <path d=\"M19 3H5c-1.1 0-2 .9-2 2v14c0 1.1.9 2 2 2h14c1.1 0 2-.9 2-2V5c0-1.1-.9-2-2-2zM9 17H7v-7h2v7zm4 0h-2V7h2v10zm4 0h-2v-4h2v4z\"/>\n",
              "    </g>\n",
              "</svg>\n",
              "  </button>\n",
              "\n",
              "<style>\n",
              "  .colab-df-quickchart {\n",
              "      --bg-color: #E8F0FE;\n",
              "      --fill-color: #1967D2;\n",
              "      --hover-bg-color: #E2EBFA;\n",
              "      --hover-fill-color: #174EA6;\n",
              "      --disabled-fill-color: #AAA;\n",
              "      --disabled-bg-color: #DDD;\n",
              "  }\n",
              "\n",
              "  [theme=dark] .colab-df-quickchart {\n",
              "      --bg-color: #3B4455;\n",
              "      --fill-color: #D2E3FC;\n",
              "      --hover-bg-color: #434B5C;\n",
              "      --hover-fill-color: #FFFFFF;\n",
              "      --disabled-bg-color: #3B4455;\n",
              "      --disabled-fill-color: #666;\n",
              "  }\n",
              "\n",
              "  .colab-df-quickchart {\n",
              "    background-color: var(--bg-color);\n",
              "    border: none;\n",
              "    border-radius: 50%;\n",
              "    cursor: pointer;\n",
              "    display: none;\n",
              "    fill: var(--fill-color);\n",
              "    height: 32px;\n",
              "    padding: 0;\n",
              "    width: 32px;\n",
              "  }\n",
              "\n",
              "  .colab-df-quickchart:hover {\n",
              "    background-color: var(--hover-bg-color);\n",
              "    box-shadow: 0 1px 2px rgba(60, 64, 67, 0.3), 0 1px 3px 1px rgba(60, 64, 67, 0.15);\n",
              "    fill: var(--button-hover-fill-color);\n",
              "  }\n",
              "\n",
              "  .colab-df-quickchart-complete:disabled,\n",
              "  .colab-df-quickchart-complete:disabled:hover {\n",
              "    background-color: var(--disabled-bg-color);\n",
              "    fill: var(--disabled-fill-color);\n",
              "    box-shadow: none;\n",
              "  }\n",
              "\n",
              "  .colab-df-spinner {\n",
              "    border: 2px solid var(--fill-color);\n",
              "    border-color: transparent;\n",
              "    border-bottom-color: var(--fill-color);\n",
              "    animation:\n",
              "      spin 1s steps(1) infinite;\n",
              "  }\n",
              "\n",
              "  @keyframes spin {\n",
              "    0% {\n",
              "      border-color: transparent;\n",
              "      border-bottom-color: var(--fill-color);\n",
              "      border-left-color: var(--fill-color);\n",
              "    }\n",
              "    20% {\n",
              "      border-color: transparent;\n",
              "      border-left-color: var(--fill-color);\n",
              "      border-top-color: var(--fill-color);\n",
              "    }\n",
              "    30% {\n",
              "      border-color: transparent;\n",
              "      border-left-color: var(--fill-color);\n",
              "      border-top-color: var(--fill-color);\n",
              "      border-right-color: var(--fill-color);\n",
              "    }\n",
              "    40% {\n",
              "      border-color: transparent;\n",
              "      border-right-color: var(--fill-color);\n",
              "      border-top-color: var(--fill-color);\n",
              "    }\n",
              "    60% {\n",
              "      border-color: transparent;\n",
              "      border-right-color: var(--fill-color);\n",
              "    }\n",
              "    80% {\n",
              "      border-color: transparent;\n",
              "      border-right-color: var(--fill-color);\n",
              "      border-bottom-color: var(--fill-color);\n",
              "    }\n",
              "    90% {\n",
              "      border-color: transparent;\n",
              "      border-bottom-color: var(--fill-color);\n",
              "    }\n",
              "  }\n",
              "</style>\n",
              "\n",
              "  <script>\n",
              "    async function quickchart(key) {\n",
              "      const quickchartButtonEl =\n",
              "        document.querySelector('#' + key + ' button');\n",
              "      quickchartButtonEl.disabled = true;  // To prevent multiple clicks.\n",
              "      quickchartButtonEl.classList.add('colab-df-spinner');\n",
              "      try {\n",
              "        const charts = await google.colab.kernel.invokeFunction(\n",
              "            'suggestCharts', [key], {});\n",
              "      } catch (error) {\n",
              "        console.error('Error during call to suggestCharts:', error);\n",
              "      }\n",
              "      quickchartButtonEl.classList.remove('colab-df-spinner');\n",
              "      quickchartButtonEl.classList.add('colab-df-quickchart-complete');\n",
              "    }\n",
              "    (() => {\n",
              "      let quickchartButtonEl =\n",
              "        document.querySelector('#df-a9c7bb5f-8b89-40f5-a891-ede6252e3e6f button');\n",
              "      quickchartButtonEl.style.display =\n",
              "        google.colab.kernel.accessAllowed ? 'block' : 'none';\n",
              "    })();\n",
              "  </script>\n",
              "</div>\n",
              "    </div>\n",
              "  </div>\n"
            ]
          },
          "metadata": {},
          "execution_count": 133
        }
      ],
      "source": [
        "df.head()"
      ]
    },
    {
      "cell_type": "code",
      "execution_count": 134,
      "metadata": {
        "id": "m_kuHl-z5_Qe"
      },
      "outputs": [],
      "source": [
        "sparse_features = ['user_id', 'camping_id']"
      ]
    },
    {
      "cell_type": "code",
      "execution_count": 135,
      "metadata": {
        "id": "huxff8en5E7f"
      },
      "outputs": [],
      "source": [
        "dense_features = ['rating']"
      ]
    },
    {
      "cell_type": "code",
      "execution_count": 136,
      "metadata": {
        "colab": {
          "base_uri": "https://localhost:8080/"
        },
        "id": "S4PazTOI5IjJ",
        "outputId": "9eb96df2-9c98-404b-b09a-3067ebe08659"
      },
      "outputs": [
        {
          "output_type": "stream",
          "name": "stdout",
          "text": [
            "<class 'pandas.core.frame.DataFrame'>\n",
            "RangeIndex: 592 entries, 0 to 591\n",
            "Data columns (total 1 columns):\n",
            " #   Column  Non-Null Count  Dtype\n",
            "---  ------  --------------  -----\n",
            " 0   rating  592 non-null    int64\n",
            "dtypes: int64(1)\n",
            "memory usage: 4.8 KB\n"
          ]
        }
      ],
      "source": [
        "df[dense_features].info()"
      ]
    },
    {
      "cell_type": "markdown",
      "metadata": {
        "id": "SAvZWH_85s8T"
      },
      "source": [
        "### Generate feature columns"
      ]
    },
    {
      "cell_type": "code",
      "execution_count": 137,
      "metadata": {
        "id": "8uKY4Ntw5xF7"
      },
      "outputs": [],
      "source": [
        "def process_sparse_feats(df, feats):\n",
        "    d = df.copy()\n",
        "    d = d[feats].fillna(\"-1\")\n",
        "    for f in feats:\n",
        "        label_encoder = LabelEncoder()\n",
        "        d[f] = label_encoder.fit_transform(d[f])\n",
        "\n",
        "    return d"
      ]
    },
    {
      "cell_type": "code",
      "execution_count": 138,
      "metadata": {
        "id": "O1V052Nz6ug7"
      },
      "outputs": [],
      "source": [
        "data_sparse = process_sparse_feats(df, sparse_features)"
      ]
    },
    {
      "cell_type": "code",
      "execution_count": 139,
      "metadata": {
        "id": "kZtVvza-63pH"
      },
      "outputs": [],
      "source": [
        "total_data = pd.concat([df[dense_features], data_sparse], axis=1)"
      ]
    },
    {
      "cell_type": "code",
      "execution_count": 140,
      "metadata": {
        "id": "UIMTCVhV69zf"
      },
      "outputs": [],
      "source": [
        "df['id_camping_num_only'] = df['camping_id'].map(lambda x: x.lstrip('C'))\n",
        "df['id_camping_num_only'] = df['id_camping_num_only'].astype(int)"
      ]
    },
    {
      "cell_type": "code",
      "execution_count": 141,
      "metadata": {
        "colab": {
          "base_uri": "https://localhost:8080/",
          "height": 423
        },
        "id": "MAF1Rzj-7EJP",
        "outputId": "e3d24cda-af1c-44d2-ec86-b22e4e0f02fa"
      },
      "outputs": [
        {
          "output_type": "execute_result",
          "data": {
            "text/plain": [
              "     rating  user_id  camping_id\n",
              "0         4        0           0\n",
              "1         4        1           0\n",
              "2         5        2           0\n",
              "3         5        3           0\n",
              "4         5        4           0\n",
              "..      ...      ...         ...\n",
              "587       4      587          59\n",
              "588       4      588          59\n",
              "589       5      589          59\n",
              "590       5      590          59\n",
              "591       5      591          59\n",
              "\n",
              "[592 rows x 3 columns]"
            ],
            "text/html": [
              "\n",
              "  <div id=\"df-d78d5f0b-8938-4dc9-8386-c49ad4cf80f1\" class=\"colab-df-container\">\n",
              "    <div>\n",
              "<style scoped>\n",
              "    .dataframe tbody tr th:only-of-type {\n",
              "        vertical-align: middle;\n",
              "    }\n",
              "\n",
              "    .dataframe tbody tr th {\n",
              "        vertical-align: top;\n",
              "    }\n",
              "\n",
              "    .dataframe thead th {\n",
              "        text-align: right;\n",
              "    }\n",
              "</style>\n",
              "<table border=\"1\" class=\"dataframe\">\n",
              "  <thead>\n",
              "    <tr style=\"text-align: right;\">\n",
              "      <th></th>\n",
              "      <th>rating</th>\n",
              "      <th>user_id</th>\n",
              "      <th>camping_id</th>\n",
              "    </tr>\n",
              "  </thead>\n",
              "  <tbody>\n",
              "    <tr>\n",
              "      <th>0</th>\n",
              "      <td>4</td>\n",
              "      <td>0</td>\n",
              "      <td>0</td>\n",
              "    </tr>\n",
              "    <tr>\n",
              "      <th>1</th>\n",
              "      <td>4</td>\n",
              "      <td>1</td>\n",
              "      <td>0</td>\n",
              "    </tr>\n",
              "    <tr>\n",
              "      <th>2</th>\n",
              "      <td>5</td>\n",
              "      <td>2</td>\n",
              "      <td>0</td>\n",
              "    </tr>\n",
              "    <tr>\n",
              "      <th>3</th>\n",
              "      <td>5</td>\n",
              "      <td>3</td>\n",
              "      <td>0</td>\n",
              "    </tr>\n",
              "    <tr>\n",
              "      <th>4</th>\n",
              "      <td>5</td>\n",
              "      <td>4</td>\n",
              "      <td>0</td>\n",
              "    </tr>\n",
              "    <tr>\n",
              "      <th>...</th>\n",
              "      <td>...</td>\n",
              "      <td>...</td>\n",
              "      <td>...</td>\n",
              "    </tr>\n",
              "    <tr>\n",
              "      <th>587</th>\n",
              "      <td>4</td>\n",
              "      <td>587</td>\n",
              "      <td>59</td>\n",
              "    </tr>\n",
              "    <tr>\n",
              "      <th>588</th>\n",
              "      <td>4</td>\n",
              "      <td>588</td>\n",
              "      <td>59</td>\n",
              "    </tr>\n",
              "    <tr>\n",
              "      <th>589</th>\n",
              "      <td>5</td>\n",
              "      <td>589</td>\n",
              "      <td>59</td>\n",
              "    </tr>\n",
              "    <tr>\n",
              "      <th>590</th>\n",
              "      <td>5</td>\n",
              "      <td>590</td>\n",
              "      <td>59</td>\n",
              "    </tr>\n",
              "    <tr>\n",
              "      <th>591</th>\n",
              "      <td>5</td>\n",
              "      <td>591</td>\n",
              "      <td>59</td>\n",
              "    </tr>\n",
              "  </tbody>\n",
              "</table>\n",
              "<p>592 rows × 3 columns</p>\n",
              "</div>\n",
              "    <div class=\"colab-df-buttons\">\n",
              "\n",
              "  <div class=\"colab-df-container\">\n",
              "    <button class=\"colab-df-convert\" onclick=\"convertToInteractive('df-d78d5f0b-8938-4dc9-8386-c49ad4cf80f1')\"\n",
              "            title=\"Convert this dataframe to an interactive table.\"\n",
              "            style=\"display:none;\">\n",
              "\n",
              "  <svg xmlns=\"http://www.w3.org/2000/svg\" height=\"24px\" viewBox=\"0 -960 960 960\">\n",
              "    <path d=\"M120-120v-720h720v720H120Zm60-500h600v-160H180v160Zm220 220h160v-160H400v160Zm0 220h160v-160H400v160ZM180-400h160v-160H180v160Zm440 0h160v-160H620v160ZM180-180h160v-160H180v160Zm440 0h160v-160H620v160Z\"/>\n",
              "  </svg>\n",
              "    </button>\n",
              "\n",
              "  <style>\n",
              "    .colab-df-container {\n",
              "      display:flex;\n",
              "      gap: 12px;\n",
              "    }\n",
              "\n",
              "    .colab-df-convert {\n",
              "      background-color: #E8F0FE;\n",
              "      border: none;\n",
              "      border-radius: 50%;\n",
              "      cursor: pointer;\n",
              "      display: none;\n",
              "      fill: #1967D2;\n",
              "      height: 32px;\n",
              "      padding: 0 0 0 0;\n",
              "      width: 32px;\n",
              "    }\n",
              "\n",
              "    .colab-df-convert:hover {\n",
              "      background-color: #E2EBFA;\n",
              "      box-shadow: 0px 1px 2px rgba(60, 64, 67, 0.3), 0px 1px 3px 1px rgba(60, 64, 67, 0.15);\n",
              "      fill: #174EA6;\n",
              "    }\n",
              "\n",
              "    .colab-df-buttons div {\n",
              "      margin-bottom: 4px;\n",
              "    }\n",
              "\n",
              "    [theme=dark] .colab-df-convert {\n",
              "      background-color: #3B4455;\n",
              "      fill: #D2E3FC;\n",
              "    }\n",
              "\n",
              "    [theme=dark] .colab-df-convert:hover {\n",
              "      background-color: #434B5C;\n",
              "      box-shadow: 0px 1px 3px 1px rgba(0, 0, 0, 0.15);\n",
              "      filter: drop-shadow(0px 1px 2px rgba(0, 0, 0, 0.3));\n",
              "      fill: #FFFFFF;\n",
              "    }\n",
              "  </style>\n",
              "\n",
              "    <script>\n",
              "      const buttonEl =\n",
              "        document.querySelector('#df-d78d5f0b-8938-4dc9-8386-c49ad4cf80f1 button.colab-df-convert');\n",
              "      buttonEl.style.display =\n",
              "        google.colab.kernel.accessAllowed ? 'block' : 'none';\n",
              "\n",
              "      async function convertToInteractive(key) {\n",
              "        const element = document.querySelector('#df-d78d5f0b-8938-4dc9-8386-c49ad4cf80f1');\n",
              "        const dataTable =\n",
              "          await google.colab.kernel.invokeFunction('convertToInteractive',\n",
              "                                                    [key], {});\n",
              "        if (!dataTable) return;\n",
              "\n",
              "        const docLinkHtml = 'Like what you see? Visit the ' +\n",
              "          '<a target=\"_blank\" href=https://colab.research.google.com/notebooks/data_table.ipynb>data table notebook</a>'\n",
              "          + ' to learn more about interactive tables.';\n",
              "        element.innerHTML = '';\n",
              "        dataTable['output_type'] = 'display_data';\n",
              "        await google.colab.output.renderOutput(dataTable, element);\n",
              "        const docLink = document.createElement('div');\n",
              "        docLink.innerHTML = docLinkHtml;\n",
              "        element.appendChild(docLink);\n",
              "      }\n",
              "    </script>\n",
              "  </div>\n",
              "\n",
              "\n",
              "<div id=\"df-f3ec2c3e-4986-456a-b768-bd06f46191fe\">\n",
              "  <button class=\"colab-df-quickchart\" onclick=\"quickchart('df-f3ec2c3e-4986-456a-b768-bd06f46191fe')\"\n",
              "            title=\"Suggest charts\"\n",
              "            style=\"display:none;\">\n",
              "\n",
              "<svg xmlns=\"http://www.w3.org/2000/svg\" height=\"24px\"viewBox=\"0 0 24 24\"\n",
              "     width=\"24px\">\n",
              "    <g>\n",
              "        <path d=\"M19 3H5c-1.1 0-2 .9-2 2v14c0 1.1.9 2 2 2h14c1.1 0 2-.9 2-2V5c0-1.1-.9-2-2-2zM9 17H7v-7h2v7zm4 0h-2V7h2v10zm4 0h-2v-4h2v4z\"/>\n",
              "    </g>\n",
              "</svg>\n",
              "  </button>\n",
              "\n",
              "<style>\n",
              "  .colab-df-quickchart {\n",
              "      --bg-color: #E8F0FE;\n",
              "      --fill-color: #1967D2;\n",
              "      --hover-bg-color: #E2EBFA;\n",
              "      --hover-fill-color: #174EA6;\n",
              "      --disabled-fill-color: #AAA;\n",
              "      --disabled-bg-color: #DDD;\n",
              "  }\n",
              "\n",
              "  [theme=dark] .colab-df-quickchart {\n",
              "      --bg-color: #3B4455;\n",
              "      --fill-color: #D2E3FC;\n",
              "      --hover-bg-color: #434B5C;\n",
              "      --hover-fill-color: #FFFFFF;\n",
              "      --disabled-bg-color: #3B4455;\n",
              "      --disabled-fill-color: #666;\n",
              "  }\n",
              "\n",
              "  .colab-df-quickchart {\n",
              "    background-color: var(--bg-color);\n",
              "    border: none;\n",
              "    border-radius: 50%;\n",
              "    cursor: pointer;\n",
              "    display: none;\n",
              "    fill: var(--fill-color);\n",
              "    height: 32px;\n",
              "    padding: 0;\n",
              "    width: 32px;\n",
              "  }\n",
              "\n",
              "  .colab-df-quickchart:hover {\n",
              "    background-color: var(--hover-bg-color);\n",
              "    box-shadow: 0 1px 2px rgba(60, 64, 67, 0.3), 0 1px 3px 1px rgba(60, 64, 67, 0.15);\n",
              "    fill: var(--button-hover-fill-color);\n",
              "  }\n",
              "\n",
              "  .colab-df-quickchart-complete:disabled,\n",
              "  .colab-df-quickchart-complete:disabled:hover {\n",
              "    background-color: var(--disabled-bg-color);\n",
              "    fill: var(--disabled-fill-color);\n",
              "    box-shadow: none;\n",
              "  }\n",
              "\n",
              "  .colab-df-spinner {\n",
              "    border: 2px solid var(--fill-color);\n",
              "    border-color: transparent;\n",
              "    border-bottom-color: var(--fill-color);\n",
              "    animation:\n",
              "      spin 1s steps(1) infinite;\n",
              "  }\n",
              "\n",
              "  @keyframes spin {\n",
              "    0% {\n",
              "      border-color: transparent;\n",
              "      border-bottom-color: var(--fill-color);\n",
              "      border-left-color: var(--fill-color);\n",
              "    }\n",
              "    20% {\n",
              "      border-color: transparent;\n",
              "      border-left-color: var(--fill-color);\n",
              "      border-top-color: var(--fill-color);\n",
              "    }\n",
              "    30% {\n",
              "      border-color: transparent;\n",
              "      border-left-color: var(--fill-color);\n",
              "      border-top-color: var(--fill-color);\n",
              "      border-right-color: var(--fill-color);\n",
              "    }\n",
              "    40% {\n",
              "      border-color: transparent;\n",
              "      border-right-color: var(--fill-color);\n",
              "      border-top-color: var(--fill-color);\n",
              "    }\n",
              "    60% {\n",
              "      border-color: transparent;\n",
              "      border-right-color: var(--fill-color);\n",
              "    }\n",
              "    80% {\n",
              "      border-color: transparent;\n",
              "      border-right-color: var(--fill-color);\n",
              "      border-bottom-color: var(--fill-color);\n",
              "    }\n",
              "    90% {\n",
              "      border-color: transparent;\n",
              "      border-bottom-color: var(--fill-color);\n",
              "    }\n",
              "  }\n",
              "</style>\n",
              "\n",
              "  <script>\n",
              "    async function quickchart(key) {\n",
              "      const quickchartButtonEl =\n",
              "        document.querySelector('#' + key + ' button');\n",
              "      quickchartButtonEl.disabled = true;  // To prevent multiple clicks.\n",
              "      quickchartButtonEl.classList.add('colab-df-spinner');\n",
              "      try {\n",
              "        const charts = await google.colab.kernel.invokeFunction(\n",
              "            'suggestCharts', [key], {});\n",
              "      } catch (error) {\n",
              "        console.error('Error during call to suggestCharts:', error);\n",
              "      }\n",
              "      quickchartButtonEl.classList.remove('colab-df-spinner');\n",
              "      quickchartButtonEl.classList.add('colab-df-quickchart-complete');\n",
              "    }\n",
              "    (() => {\n",
              "      let quickchartButtonEl =\n",
              "        document.querySelector('#df-f3ec2c3e-4986-456a-b768-bd06f46191fe button');\n",
              "      quickchartButtonEl.style.display =\n",
              "        google.colab.kernel.accessAllowed ? 'block' : 'none';\n",
              "    })();\n",
              "  </script>\n",
              "</div>\n",
              "    </div>\n",
              "  </div>\n"
            ]
          },
          "metadata": {},
          "execution_count": 141
        }
      ],
      "source": [
        "df['id_camping_num_only'] = df['id_camping_num_only'].astype(int)\n",
        "total_data"
      ]
    },
    {
      "cell_type": "code",
      "execution_count": 142,
      "metadata": {
        "colab": {
          "base_uri": "https://localhost:8080/"
        },
        "id": "Ry4erYYA8rsR",
        "outputId": "115aa60c-b4c0-4068-f0f3-950a0021b4f1"
      },
      "outputs": [
        {
          "output_type": "stream",
          "name": "stdout",
          "text": [
            "<class 'pandas.core.frame.DataFrame'>\n",
            "RangeIndex: 592 entries, 0 to 591\n",
            "Data columns (total 3 columns):\n",
            " #   Column      Non-Null Count  Dtype\n",
            "---  ------      --------------  -----\n",
            " 0   rating      592 non-null    int64\n",
            " 1   user_id     592 non-null    int64\n",
            " 2   camping_id  592 non-null    int64\n",
            "dtypes: int64(3)\n",
            "memory usage: 14.0 KB\n"
          ]
        }
      ],
      "source": [
        "total_data.info()"
      ]
    },
    {
      "cell_type": "code",
      "execution_count": 143,
      "metadata": {
        "id": "8qizWRGw8y3U"
      },
      "outputs": [],
      "source": [
        "# Construct the input of dense features\n",
        "dense_inputs = []\n",
        "for f in dense_features:\n",
        "    _input = Input([1], name=f)\n",
        "    dense_inputs.append(_input)\n",
        "# Splicing the inputs together for easy connection to the Dense layer\n",
        "concat_dense_inputs = Concatenate(axis=1)(dense_inputs)\n",
        "# Then connect to a fully connected layer whose output is 1 unit, indicating a weighted sum of dense variables\n",
        "fst_order_dense_layer = Dense(1)(concat_dense_inputs)"
      ]
    },
    {
      "cell_type": "code",
      "execution_count": 144,
      "metadata": {
        "id": "SxGjPN309Cxj"
      },
      "outputs": [],
      "source": [
        "# Here the input is constructed separately for each sparse feature,\n",
        "# The purpose is to facilitate the construction of second-order combined features later\n",
        "sparse_inputs = []\n",
        "for f in sparse_features:\n",
        "    _input = Input([1], name=f)\n",
        "    sparse_inputs.append(_input)\n",
        "\n",
        "sparse_1d_embed = []\n",
        "for i, _input in enumerate(sparse_inputs):\n",
        "    f = sparse_features[i]\n",
        "    voc_size = total_data[f].nunique()\n",
        "    # use l2 regularization to prevent overfitting\n",
        "    reg = tf.keras.regularizers.l2(0.5)\n",
        "    _embed = Embedding(voc_size, 1, embeddings_regularizer=reg)(_input)\n",
        "    # Since the result of Embedding is two-dimensional,\n",
        "    # So if you need to add the Dense layer after Embedding, you need to connect the Flatten layer first\n",
        "    _embed = Flatten()(_embed)\n",
        "    sparse_1d_embed.append(_embed)\n",
        "# Sum the results wi of each embedding lookup\n",
        "fst_order_sparse_layer = Add()(sparse_1d_embed)"
      ]
    },
    {
      "cell_type": "code",
      "execution_count": 147,
      "metadata": {
        "id": "XYykVcI79Nbb"
      },
      "outputs": [],
      "source": [
        "linear_part = Add()([fst_order_dense_layer, fst_order_sparse_layer])"
      ]
    },
    {
      "cell_type": "markdown",
      "metadata": {
        "id": "UhCa7i_H9QR7"
      },
      "source": [
        "### Create the Network"
      ]
    },
    {
      "cell_type": "code",
      "execution_count": 148,
      "metadata": {
        "id": "tzYyAchO9WG-"
      },
      "outputs": [],
      "source": [
        "# embedding size\n",
        "k = 270\n",
        "\n",
        "# Only consider second-order intersection of sparse\n",
        "sparse_kd_embed = []\n",
        "for i, _input in enumerate(sparse_inputs):\n",
        "    f = sparse_features[i]\n",
        "    voc_size = total_data[f].nunique()\n",
        "    reg = tf.keras.regularizers.l2(0.7)\n",
        "    _embed = Embedding(voc_size, k, embeddings_regularizer=reg)(_input)\n",
        "    sparse_kd_embed.append(_embed)"
      ]
    },
    {
      "cell_type": "code",
      "execution_count": 149,
      "metadata": {
        "id": "gVCBmPsx9bpu"
      },
      "outputs": [],
      "source": [
        "concat_sparse_kd_embed = Concatenate(axis=1)(sparse_kd_embed)"
      ]
    },
    {
      "cell_type": "code",
      "execution_count": 150,
      "metadata": {
        "id": "PH0l8W2p9d9S"
      },
      "outputs": [],
      "source": [
        "sum_kd_embed = Lambda(lambda x: K.sum(x, axis=1))(concat_sparse_kd_embed)\n",
        "square_sum_kd_embed = Multiply()([sum_kd_embed, sum_kd_embed])"
      ]
    },
    {
      "cell_type": "code",
      "execution_count": 151,
      "metadata": {
        "id": "Z3tVmRHJ9lEG"
      },
      "outputs": [],
      "source": [
        "square_kd_embed = Multiply()([concat_sparse_kd_embed, concat_sparse_kd_embed])\n",
        "sum_square_kd_embed = Lambda(lambda x: K.sum(x, axis=1))(square_kd_embed)"
      ]
    },
    {
      "cell_type": "code",
      "execution_count": 152,
      "metadata": {
        "id": "kwjzH1F_9qx8"
      },
      "outputs": [],
      "source": [
        "sub = Subtract()([square_sum_kd_embed, sum_square_kd_embed])\n",
        "sub = Lambda(lambda x: x*0.5)(sub)\n",
        "snd_order_sparse_layer = Lambda(lambda x: K.sum(x, axis=1, keepdims=True))(sub)"
      ]
    },
    {
      "cell_type": "markdown",
      "metadata": {
        "id": "ri9RddIv9uqm"
      },
      "source": [
        "### Summarize Model"
      ]
    },
    {
      "cell_type": "code",
      "execution_count": 153,
      "metadata": {
        "id": "gY6M6qpj9uAQ"
      },
      "outputs": [],
      "source": [
        "flatten_sparse_embed = Flatten()(concat_sparse_kd_embed)"
      ]
    },
    {
      "cell_type": "code",
      "execution_count": 154,
      "metadata": {
        "id": "SoNhVX1N928A"
      },
      "outputs": [],
      "source": [
        "fc_layer = Dropout(0.5)(Dense(256, activation='relu')(flatten_sparse_embed))\n",
        "fc_layer = Dropout(0.3)(Dense(256, activation='relu')(fc_layer))\n",
        "fc_layer = Dropout(0.1)(Dense(256, activation='relu')(fc_layer))"
      ]
    },
    {
      "cell_type": "code",
      "execution_count": 155,
      "metadata": {
        "id": "CorKdev295FQ"
      },
      "outputs": [],
      "source": [
        "fc_layer_output = Dense(1)(fc_layer)"
      ]
    },
    {
      "cell_type": "code",
      "execution_count": 156,
      "metadata": {
        "id": "22L_-7No97vI"
      },
      "outputs": [],
      "source": [
        "output_layer = Add()([linear_part, snd_order_sparse_layer, fc_layer_output])\n",
        "output_layer = Activation(\"sigmoid\")(output_layer)"
      ]
    },
    {
      "cell_type": "code",
      "execution_count": 157,
      "metadata": {
        "colab": {
          "base_uri": "https://localhost:8080/"
        },
        "id": "IqGPygys9-ii",
        "outputId": "baa9f2ac-481e-4563-cfa8-360c0663262f"
      },
      "outputs": [
        {
          "output_type": "stream",
          "name": "stdout",
          "text": [
            "Model: \"model_2\"\n",
            "__________________________________________________________________________________________________\n",
            " Layer (type)                Output Shape                 Param #   Connected to                  \n",
            "==================================================================================================\n",
            " user_id (InputLayer)        [(None, 1)]                  0         []                            \n",
            "                                                                                                  \n",
            " camping_id (InputLayer)     [(None, 1)]                  0         []                            \n",
            "                                                                                                  \n",
            " embedding_12 (Embedding)    (None, 1, 270)               159840    ['user_id[0][0]']             \n",
            "                                                                                                  \n",
            " embedding_13 (Embedding)    (None, 1, 270)               16200     ['camping_id[0][0]']          \n",
            "                                                                                                  \n",
            " concatenate_5 (Concatenate  (None, 2, 270)               0         ['embedding_12[0][0]',        \n",
            " )                                                                   'embedding_13[0][0]']        \n",
            "                                                                                                  \n",
            " flatten_8 (Flatten)         (None, 540)                  0         ['concatenate_5[0][0]']       \n",
            "                                                                                                  \n",
            " dense_11 (Dense)            (None, 256)                  138496    ['flatten_8[0][0]']           \n",
            "                                                                                                  \n",
            " dropout_6 (Dropout)         (None, 256)                  0         ['dense_11[0][0]']            \n",
            "                                                                                                  \n",
            " lambda_8 (Lambda)           (None, 270)                  0         ['concatenate_5[0][0]']       \n",
            "                                                                                                  \n",
            " multiply_5 (Multiply)       (None, 2, 270)               0         ['concatenate_5[0][0]',       \n",
            "                                                                     'concatenate_5[0][0]']       \n",
            "                                                                                                  \n",
            " dense_12 (Dense)            (None, 256)                  65792     ['dropout_6[0][0]']           \n",
            "                                                                                                  \n",
            " rating (InputLayer)         [(None, 1)]                  0         []                            \n",
            "                                                                                                  \n",
            " embedding_8 (Embedding)     (None, 1, 1)                 592       ['user_id[0][0]']             \n",
            "                                                                                                  \n",
            " embedding_9 (Embedding)     (None, 1, 1)                 60        ['camping_id[0][0]']          \n",
            "                                                                                                  \n",
            " multiply_4 (Multiply)       (None, 270)                  0         ['lambda_8[0][0]',            \n",
            "                                                                     'lambda_8[0][0]']            \n",
            "                                                                                                  \n",
            " lambda_9 (Lambda)           (None, 270)                  0         ['multiply_5[0][0]']          \n",
            "                                                                                                  \n",
            " dropout_7 (Dropout)         (None, 256)                  0         ['dense_12[0][0]']            \n",
            "                                                                                                  \n",
            " concatenate_4 (Concatenate  (None, 1)                    0         ['rating[0][0]']              \n",
            " )                                                                                                \n",
            "                                                                                                  \n",
            " flatten_6 (Flatten)         (None, 1)                    0         ['embedding_8[0][0]']         \n",
            "                                                                                                  \n",
            " flatten_7 (Flatten)         (None, 1)                    0         ['embedding_9[0][0]']         \n",
            "                                                                                                  \n",
            " subtract_2 (Subtract)       (None, 270)                  0         ['multiply_4[0][0]',          \n",
            "                                                                     'lambda_9[0][0]']            \n",
            "                                                                                                  \n",
            " dense_13 (Dense)            (None, 256)                  65792     ['dropout_7[0][0]']           \n",
            "                                                                                                  \n",
            " dense_10 (Dense)            (None, 1)                    2         ['concatenate_4[0][0]']       \n",
            "                                                                                                  \n",
            " add_6 (Add)                 (None, 1)                    0         ['flatten_6[0][0]',           \n",
            "                                                                     'flatten_7[0][0]']           \n",
            "                                                                                                  \n",
            " lambda_10 (Lambda)          (None, 270)                  0         ['subtract_2[0][0]']          \n",
            "                                                                                                  \n",
            " dropout_8 (Dropout)         (None, 256)                  0         ['dense_13[0][0]']            \n",
            "                                                                                                  \n",
            " add_8 (Add)                 (None, 1)                    0         ['dense_10[0][0]',            \n",
            "                                                                     'add_6[0][0]']               \n",
            "                                                                                                  \n",
            " lambda_11 (Lambda)          (None, 1)                    0         ['lambda_10[0][0]']           \n",
            "                                                                                                  \n",
            " dense_14 (Dense)            (None, 1)                    257       ['dropout_8[0][0]']           \n",
            "                                                                                                  \n",
            " add_9 (Add)                 (None, 1)                    0         ['add_8[0][0]',               \n",
            "                                                                     'lambda_11[0][0]',           \n",
            "                                                                     'dense_14[0][0]']            \n",
            "                                                                                                  \n",
            " activation_2 (Activation)   (None, 1)                    0         ['add_9[0][0]']               \n",
            "                                                                                                  \n",
            "==================================================================================================\n",
            "Total params: 447031 (1.71 MB)\n",
            "Trainable params: 447031 (1.71 MB)\n",
            "Non-trainable params: 0 (0.00 Byte)\n",
            "__________________________________________________________________________________________________\n"
          ]
        }
      ],
      "source": [
        "model = Model(dense_inputs+sparse_inputs, output_layer)\n",
        "model.summary()"
      ]
    },
    {
      "cell_type": "code",
      "execution_count": 158,
      "metadata": {
        "id": "UvKLCBdh-JyC"
      },
      "outputs": [],
      "source": [
        "model.compile(optimizer=\"adam\",\n",
        "              loss=\"binary_crossentropy\",\n",
        "              metrics=['binary_accuracy'])"
      ]
    },
    {
      "cell_type": "markdown",
      "metadata": {
        "id": "I5PdNaAi-OtG"
      },
      "source": [
        "### Train Network"
      ]
    },
    {
      "cell_type": "code",
      "execution_count": 159,
      "metadata": {
        "id": "lt-wTPKz-RJm"
      },
      "outputs": [],
      "source": [
        "train_data, test_data = train_test_split(total_data, test_size=0.8)"
      ]
    },
    {
      "cell_type": "code",
      "execution_count": 160,
      "metadata": {
        "id": "bGw0AxMw-Vmq"
      },
      "outputs": [],
      "source": [
        "train_dense_x = [train_data[f].values for f in dense_features]\n",
        "train_sparse_x = [train_data[f].values for f in sparse_features]"
      ]
    },
    {
      "cell_type": "code",
      "execution_count": 161,
      "metadata": {
        "id": "mL1Fx0Fg-X9M"
      },
      "outputs": [],
      "source": [
        "train_label = [train_data['rating'].values]"
      ]
    },
    {
      "cell_type": "code",
      "execution_count": 162,
      "metadata": {
        "id": "Bgt51FXL-deT"
      },
      "outputs": [],
      "source": [
        "test_dense_x = [test_data[f].values for f in dense_features]\n",
        "test_sparse_x = [test_data[f].values for f in sparse_features]"
      ]
    },
    {
      "cell_type": "code",
      "execution_count": 163,
      "metadata": {
        "id": "t1-kFq2LItfP"
      },
      "outputs": [],
      "source": [
        "test_label = [test_data['rating'].values]"
      ]
    },
    {
      "cell_type": "code",
      "execution_count": 164,
      "metadata": {
        "colab": {
          "base_uri": "https://localhost:8080/"
        },
        "id": "4Jw8cv7s-fti",
        "outputId": "4c25f1cd-7527-4f13-9206-a2f39713f4a5"
      },
      "outputs": [
        {
          "output_type": "stream",
          "name": "stdout",
          "text": [
            "Epoch 1/20\n",
            "4/4 [==============================] - 3s 126ms/step - loss: 71.8633 - binary_accuracy: 0.0847 - val_loss: 56.1526 - val_binary_accuracy: 0.0591\n",
            "Epoch 2/20\n",
            "4/4 [==============================] - 0s 34ms/step - loss: 49.3731 - binary_accuracy: 0.0847 - val_loss: 35.8477 - val_binary_accuracy: 0.0591\n",
            "Epoch 3/20\n",
            "4/4 [==============================] - 0s 33ms/step - loss: 29.7265 - binary_accuracy: 0.0847 - val_loss: 17.8235 - val_binary_accuracy: 0.0591\n",
            "Epoch 4/20\n",
            "4/4 [==============================] - 0s 40ms/step - loss: 11.5187 - binary_accuracy: 0.0847 - val_loss: 0.4881 - val_binary_accuracy: 0.0591\n",
            "Epoch 5/20\n",
            "4/4 [==============================] - 0s 31ms/step - loss: -7.4809 - binary_accuracy: 0.0847 - val_loss: -19.4928 - val_binary_accuracy: 0.0591\n",
            "Epoch 6/20\n",
            "4/4 [==============================] - 0s 32ms/step - loss: -34.5175 - binary_accuracy: 0.0847 - val_loss: -49.3126 - val_binary_accuracy: 0.0591\n",
            "Epoch 7/20\n",
            "4/4 [==============================] - 0s 39ms/step - loss: -82.7400 - binary_accuracy: 0.0847 - val_loss: -103.1611 - val_binary_accuracy: 0.0591\n",
            "Epoch 8/20\n",
            "4/4 [==============================] - 0s 39ms/step - loss: -181.6253 - binary_accuracy: 0.0847 - val_loss: -206.3677 - val_binary_accuracy: 0.0591\n",
            "Epoch 9/20\n",
            "4/4 [==============================] - 0s 44ms/step - loss: -394.8424 - binary_accuracy: 0.0847 - val_loss: -401.9840 - val_binary_accuracy: 0.0591\n",
            "Epoch 10/20\n",
            "4/4 [==============================] - 0s 33ms/step - loss: -813.1434 - binary_accuracy: 0.0847 - val_loss: -757.5524 - val_binary_accuracy: 0.0591\n",
            "Epoch 11/20\n",
            "4/4 [==============================] - 0s 39ms/step - loss: -1566.2462 - binary_accuracy: 0.0847 - val_loss: -1384.5114 - val_binary_accuracy: 0.0591\n",
            "Epoch 12/20\n",
            "4/4 [==============================] - 0s 41ms/step - loss: -2937.6289 - binary_accuracy: 0.0847 - val_loss: -2445.6316 - val_binary_accuracy: 0.0591\n",
            "Epoch 13/20\n",
            "4/4 [==============================] - 0s 40ms/step - loss: -5272.6509 - binary_accuracy: 0.0847 - val_loss: -4178.0811 - val_binary_accuracy: 0.0591\n",
            "Epoch 14/20\n",
            "4/4 [==============================] - 0s 33ms/step - loss: -9246.2402 - binary_accuracy: 0.0847 - val_loss: -6895.7178 - val_binary_accuracy: 0.0591\n",
            "Epoch 15/20\n",
            "4/4 [==============================] - 0s 39ms/step - loss: -15437.7227 - binary_accuracy: 0.0847 - val_loss: -11042.9688 - val_binary_accuracy: 0.0591\n",
            "Epoch 16/20\n",
            "4/4 [==============================] - 0s 39ms/step - loss: -24639.8691 - binary_accuracy: 0.0847 - val_loss: -17231.9062 - val_binary_accuracy: 0.0591\n",
            "Epoch 17/20\n",
            "4/4 [==============================] - 0s 34ms/step - loss: -38959.7969 - binary_accuracy: 0.0847 - val_loss: -26264.7578 - val_binary_accuracy: 0.0591\n",
            "Epoch 18/20\n",
            "4/4 [==============================] - 0s 35ms/step - loss: -58411.3281 - binary_accuracy: 0.0847 - val_loss: -39101.9258 - val_binary_accuracy: 0.0591\n",
            "Epoch 19/20\n",
            "4/4 [==============================] - 0s 39ms/step - loss: -87547.5625 - binary_accuracy: 0.0847 - val_loss: -56933.6289 - val_binary_accuracy: 0.0591\n",
            "Epoch 20/20\n",
            "4/4 [==============================] - 0s 39ms/step - loss: -128170.1797 - binary_accuracy: 0.0847 - val_loss: -81429.0234 - val_binary_accuracy: 0.0591\n"
          ]
        }
      ],
      "source": [
        "history = model.fit(\n",
        "    train_dense_x+train_sparse_x,\n",
        "    train_label,\n",
        "    epochs=20,\n",
        "    batch_size=32,\n",
        "    verbose=1,\n",
        "    validation_data=(test_dense_x+test_sparse_x, test_label))"
      ]
    },
    {
      "cell_type": "code",
      "execution_count": 165,
      "metadata": {
        "colab": {
          "base_uri": "https://localhost:8080/"
        },
        "id": "hvXvVs4kjk3k",
        "outputId": "15a58d59-533e-4a6c-ea3e-b193ee593f5f"
      },
      "outputs": [
        {
          "output_type": "stream",
          "name": "stdout",
          "text": [
            "dict_keys(['loss', 'binary_accuracy', 'val_loss', 'val_binary_accuracy'])\n"
          ]
        }
      ],
      "source": [
        "# list all data in history\n",
        "print(history.history.keys())"
      ]
    },
    {
      "cell_type": "code",
      "execution_count": 166,
      "metadata": {
        "colab": {
          "base_uri": "https://localhost:8080/"
        },
        "id": "g8Oq1q5Djll1",
        "outputId": "33beedd3-6ebb-45a6-f024-6c8541c01894"
      },
      "outputs": [
        {
          "output_type": "stream",
          "name": "stdout",
          "text": [
            "15/15 [==============================] - 0s 3ms/step\n"
          ]
        }
      ],
      "source": [
        "pred_ans = model.predict(test_dense_x+test_sparse_x, batch_size=32)"
      ]
    },
    {
      "cell_type": "code",
      "execution_count": 167,
      "metadata": {
        "colab": {
          "base_uri": "https://localhost:8080/",
          "height": 452
        },
        "id": "pemmmk31jnrD",
        "outputId": "0e941439-d854-4964-ef03-868f9eb20d20"
      },
      "outputs": [
        {
          "output_type": "display_data",
          "data": {
            "text/plain": [
              "<Figure size 640x480 with 1 Axes>"
            ],
            "image/png": "[encoded data removed]"
          },
          "metadata": {}
        }
      ],
      "source": [
        "# summarize history for loss\n",
        "plt.plot(history.history['val_loss'], color='r', label='Val Loss')\n",
        "plt.plot(history.history['loss'], color='b', label='Train Loss')\n",
        "plt.title('Val Loss vs Train Loss Graph')\n",
        "plt.show()"
      ]
    },
    {
      "cell_type": "code",
      "execution_count": 168,
      "metadata": {
        "id": "taT0poN6jr7_"
      },
      "outputs": [],
      "source": [
        "model.save('Camping Model RecSys.h5')"
      ]
    }
  ],
  "metadata": {
    "colab": {
      "provenance": []
    },
    "kernelspec": {
      "display_name": "Python 3",
      "name": "python3"
    },
    "language_info": {
      "name": "python"
    }
  },
  "nbformat": 4,
  "nbformat_minor": 0
}